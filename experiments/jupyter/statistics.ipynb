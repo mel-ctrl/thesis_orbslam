{
 "cells": [
  {
   "cell_type": "code",
   "execution_count": 1,
   "id": "d195f593",
   "metadata": {},
   "outputs": [],
   "source": [
    "%reload_ext autoreload\n",
    "%autoreload 2\n",
    "%matplotlib inline"
   ]
  },
  {
   "cell_type": "code",
   "execution_count": 2,
   "id": "5913f8dc",
   "metadata": {},
   "outputs": [],
   "source": [
    "import pandas\n",
    "import researchpy as rp\n",
    "import scipy.stats as stats\n",
    "import statsmodels.api as sm\n",
    "import os\n",
    "import yaml\n",
    "from matplotlib import pyplot as plt\n",
    "import numpy as np\n",
    "from sklearn import preprocessing\n",
    "import dataframe_image as dfi"
   ]
  },
  {
   "cell_type": "code",
   "execution_count": 40,
   "id": "f5bc1d37",
   "metadata": {},
   "outputs": [],
   "source": [
    "def calcStuff(name, df, method):            \n",
    "    subset = df[['inliers', 'sharpness', 'flow', 'contrast', 'average intensity', 'percentage white pixels', 'percentage black pixels']]\n",
    "    calcCorrelation(subset,name, plots_dir, method)\n",
    "    "
   ]
  },
  {
   "cell_type": "code",
   "execution_count": 41,
   "id": "336349d4",
   "metadata": {},
   "outputs": [],
   "source": [
    "def makePlots(subset_scaled, name, directory):\n",
    "    plt = subset_scaled.plot(xlabel='frame number', title=name)\n",
    "    fig = plt.get_figure()\n",
    "    fig.savefig(directory+'/plots/'+name+'.png')\n",
    "    "
   ]
  },
  {
   "cell_type": "markdown",
   "id": "29cf9425",
   "metadata": {},
   "source": [
    "Correlation coeffs"
   ]
  },
  {
   "cell_type": "code",
   "execution_count": 66,
   "id": "703130c1",
   "metadata": {},
   "outputs": [],
   "source": [
    "def calcCorrelation(subset_scaled, name, directory, method):\n",
    "    corr = subset_scaled.corr(method='pearson').style.background_gradient(cmap='coolwarm')\n",
    "    corr.set_caption(name)\n",
    "    if method == 'train':\n",
    "        dfi.export(corr, directory+'/corr_plots/'+name+'_corr_train.png')\n",
    "    elif method == 'test':\n",
    "        dfi.export(corr, directory+'/corr_plots/'+name+'_corr_test.png')"
   ]
  },
  {
   "cell_type": "code",
   "execution_count": 67,
   "id": "c1567b28",
   "metadata": {},
   "outputs": [
    {
     "name": "stderr",
     "output_type": "stream",
     "text": [
      "[0816/144657.741763:WARNING:sandbox_linux.cc(376)] InitializeSandbox() called with multiple threads in process gpu-process.\n",
      "[0816/144657.752184:WARNING:bluez_dbus_manager.cc(247)] Floss manager not present, cannot set Floss enable/disable.\n",
      "[0816/144657.940403:INFO:headless_shell.cc(660)] Written to file /tmp/tmp1cvducib/temp.png.\n",
      "[0816/144658.204177:WARNING:sandbox_linux.cc(376)] InitializeSandbox() called with multiple threads in process gpu-process.\n",
      "[0816/144658.214454:WARNING:bluez_dbus_manager.cc(247)] Floss manager not present, cannot set Floss enable/disable.\n",
      "[0816/144658.408887:INFO:headless_shell.cc(660)] Written to file /tmp/tmpi4xtfqvf/temp.png.\n"
     ]
    }
   ],
   "source": [
    "#directory = 'matching_interframe'\n",
    "directory = 'matching_interframe'\n",
    "plots_dir = os.getcwd()\n",
    "extension = ('.csv')\n",
    "filepaths = []\n",
    "for subdir, dirs, files in os.walk(directory):\n",
    "    files = sorted(files)\n",
    "    for file in files:\n",
    "        filepath = subdir + os.sep + file\n",
    "        if filepath.endswith(extension):\n",
    "            filepaths.append(filepath)\n",
    "            '''\n",
    "            df = pandas.read_csv(filepath)\n",
    "            df = df.astype(float)\n",
    "            df.rename(columns = {'blur':'sharpness'}, inplace=True)\n",
    "            df.dropna(inplace=True)\n",
    "            df_shuffled = df.sample(frac=1.0, replace=False, random_state=1)\n",
    "            #df_shuffled = df\n",
    "            midpoint = int(df_shuffled.shape[0]/2)\n",
    "            train_df = df_shuffled.iloc[0:midpoint]\n",
    "            test_df = df_shuffled.iloc[-midpoint:]\n",
    "            name = (filepath.split('/',1)[1]).split('_stats.csv')[0].replace('/', '_')\n",
    "            calcStuff(name+ ' train', train_df, method='train')\n",
    "            calcStuff(name+ ' test', test_df, method='test')\n",
    "            '''\n",
    "df = pandas.concat([pandas.read_csv(f) for f in filepaths])\n",
    "df = df.astype(float)\n",
    "df.rename(columns = {'blur':'sharpness'}, inplace=True)\n",
    "df.dropna(inplace=True)\n",
    "name = directory.split('/')[-1]\n",
    "name='all_combined'\n",
    "#df_shuffled = df.sample(frac=1.0, replace=False, random_state=1)\n",
    "df_shuffled = df\n",
    "midpoint = int(df_shuffled.shape[0]/2)\n",
    "train_df = df_shuffled.iloc[0:midpoint]\n",
    "test_df = df_shuffled.iloc[-midpoint:]\n",
    "calcStuff(name+ ' train', train_df, method='train')\n",
    "calcStuff(name+ ' test', test_df, method='test')\n"
   ]
  },
  {
   "cell_type": "code",
   "execution_count": 44,
   "id": "409e0184",
   "metadata": {},
   "outputs": [
    {
     "ename": "NameError",
     "evalue": "name 'figure' is not defined",
     "output_type": "error",
     "traceback": [
      "\u001b[0;31m---------------------------------------------------------------------------\u001b[0m",
      "\u001b[0;31mNameError\u001b[0m                                 Traceback (most recent call last)",
      "Input \u001b[0;32mIn [44]\u001b[0m, in \u001b[0;36m<cell line: 13>\u001b[0;34m()\u001b[0m\n\u001b[1;32m      9\u001b[0m subset \u001b[38;5;241m=\u001b[39m df[[\u001b[38;5;124m'\u001b[39m\u001b[38;5;124minliers\u001b[39m\u001b[38;5;124m'\u001b[39m, \u001b[38;5;124m'\u001b[39m\u001b[38;5;124msharpness\u001b[39m\u001b[38;5;124m'\u001b[39m, \u001b[38;5;124m'\u001b[39m\u001b[38;5;124mflow\u001b[39m\u001b[38;5;124m'\u001b[39m, \u001b[38;5;124m'\u001b[39m\u001b[38;5;124mcontrast\u001b[39m\u001b[38;5;124m'\u001b[39m, \u001b[38;5;124m'\u001b[39m\u001b[38;5;124maverage intensity\u001b[39m\u001b[38;5;124m'\u001b[39m, \u001b[38;5;124m'\u001b[39m\u001b[38;5;124mpercentage white pixels\u001b[39m\u001b[38;5;124m'\u001b[39m, \u001b[38;5;124m'\u001b[39m\u001b[38;5;124mpercentage black pixels\u001b[39m\u001b[38;5;124m'\u001b[39m]]\n\u001b[1;32m     10\u001b[0m \u001b[38;5;66;03m#corr = subset.corr(method='spearman')\u001b[39;00m\n\u001b[1;32m     11\u001b[0m \u001b[38;5;66;03m#corr.style.background_gradient(cmap='coolwarm')\u001b[39;00m\n\u001b[1;32m     12\u001b[0m \u001b[38;5;66;03m#plt.show()\u001b[39;00m\n\u001b[0;32m---> 13\u001b[0m \u001b[43mfigure\u001b[49m()\n\u001b[1;32m     14\u001b[0m fig, plot \u001b[38;5;241m=\u001b[39m plt\u001b[38;5;241m.\u001b[39msubplots(\u001b[38;5;241m2\u001b[39m, figsize \u001b[38;5;241m=\u001b[39m (\u001b[38;5;241m6\u001b[39m,\u001b[38;5;241m6\u001b[39m))\n\u001b[1;32m     15\u001b[0m plot[\u001b[38;5;241m0\u001b[39m]\u001b[38;5;241m.\u001b[39mscatter(train_df[\u001b[38;5;124m'\u001b[39m\u001b[38;5;124mpercentage black pixels\u001b[39m\u001b[38;5;124m'\u001b[39m], train_df[\u001b[38;5;124m'\u001b[39m\u001b[38;5;124minliers\u001b[39m\u001b[38;5;124m'\u001b[39m])\n",
      "\u001b[0;31mNameError\u001b[0m: name 'figure' is not defined"
     ]
    }
   ],
   "source": [
    "file = \"matching_interframe/flourish/DatasetA_stats.csv\"\n",
    "\n",
    "#file='matching_interframe/euroc/MH01_stats.csv'\n",
    "df = pandas.read_csv(file)\n",
    "df.rename(columns = {'blur':'sharpness'}, inplace=True)\n",
    "midpoint = int(df.shape[0]/2)\n",
    "train_df = df.iloc[0:midpoint]\n",
    "test_df = df.iloc[-midpoint:]\n",
    "subset = df[['inliers', 'sharpness', 'flow', 'contrast', 'average intensity', 'percentage white pixels', 'percentage black pixels']]\n",
    "#corr = subset.corr(method='spearman')\n",
    "#corr.style.background_gradient(cmap='coolwarm')\n",
    "#plt.show()\n",
    "figure()\n",
    "fig, plot = plt.subplots(2, figsize = (6,6))\n",
    "plot[0].scatter(train_df['percentage black pixels'], train_df['inliers'])\n",
    "plot[1].scatter(test_df['percentage black pixels'], test_df['inliers'])"
   ]
  },
  {
   "cell_type": "code",
   "execution_count": null,
   "id": "cb5d2a74",
   "metadata": {},
   "outputs": [],
   "source": []
  },
  {
   "cell_type": "code",
   "execution_count": null,
   "id": "88ef2815",
   "metadata": {},
   "outputs": [],
   "source": []
  }
 ],
 "metadata": {
  "kernelspec": {
   "display_name": "env_notebook",
   "language": "python",
   "name": "env_notebook"
  },
  "language_info": {
   "codemirror_mode": {
    "name": "ipython",
    "version": 3
   },
   "file_extension": ".py",
   "mimetype": "text/x-python",
   "name": "python",
   "nbconvert_exporter": "python",
   "pygments_lexer": "ipython3",
   "version": "3.8.10"
  }
 },
 "nbformat": 4,
 "nbformat_minor": 5
}
